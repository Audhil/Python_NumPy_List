{
 "cells": [
  {
   "cell_type": "code",
   "execution_count": 1207,
   "metadata": {
    "collapsed": false
   },
   "outputs": [
    {
     "name": "stdout",
     "output_type": "stream",
     "text": [
      "[[1 2 3 4]\n [5 6 7 8]]\nshowing memory location :  <memory at 0x110674480>\nshowing shape :  (2, 4)\nshowing dtype :  int16\nshowing strides :  (8, 2)\n"
     ]
    }
   ],
   "source": [
    "\"\"\"Demo of Numpy\"\"\"\n",
    "# Tutorial @ https://www.datacamp.com/community/tutorials/python-numpy-tutorial\n",
    "import numpy as np\n",
    "import matplotlib.pyplot as plt\n",
    "\n",
    "my_2d_array = np.array([[1, 2, 3, 4], [5, 6, 7, 8]], np.int16)\n",
    "\n",
    "print(my_2d_array)\n",
    "\n",
    "print('showing memory location : ', my_2d_array.data)\n",
    "print('showing shape : ', my_2d_array.shape)\n",
    "print('showing dtype : ', my_2d_array.dtype)\n",
    "print('showing strides : ', my_2d_array.strides)\n"
   ]
  },
  {
   "cell_type": "code",
   "execution_count": 1208,
   "metadata": {},
   "outputs": [
    {
     "name": "stdout",
     "output_type": "stream",
     "text": [
      "ones ::  [[ 1.  1.  1.  1.]\n [ 1.  1.  1.  1.]\n [ 1.  1.  1.  1.]]\nnp.zeros((2, 3, 4), dtype=np.int16) ::  [[[0 0 0 0]\n  [0 0 0 0]\n  [0 0 0 0]]\n\n [[0 0 0 0]\n  [0 0 0 0]\n  [0 0 0 0]]]\nnp.random.random((2, 2)) ::  [[ 0.33206968  0.70017706]\n [ 0.79047991  0.55013155]]\nnp.empty((3, 2)) ::  [[ 0.  0.]\n [ 0.  0.]\n [ 0.  0.]]\nnp.full((2, 2), 7) :  [[7 7]\n [7 7]]\nnp.arange(10, 25, 5) ::  [10 15 20]\nnp.linspace(0, 2, 9) ::  [ 0.    0.25  0.5   0.75  1.    1.25  1.5   1.75  2.  ]\n"
     ]
    }
   ],
   "source": [
    "# Create an array of ones\n",
    "print('ones :: ', np.ones((3, 4)))\n",
    "\n",
    "# Create an array of zeros\n",
    "print('np.zeros((2, 3, 4), dtype=np.int16) :: ', np.zeros((2, 3, 4), dtype=np.int16))\n",
    "\n",
    "# Create an array with random values\n",
    "print('np.random.random((2, 2)) :: ', np.random.random((2, 2)))\n",
    "\n",
    "# Create an empty array\n",
    "print('np.empty((3, 2)) :: ', np.empty((3, 2)))\n",
    "\n",
    "# Create a full array\n",
    "print('np.full((2, 2), 7) : ', np.full((2, 2), 7))\n",
    "\n",
    "# Create an array of evenly-spaced values\n",
    "print('np.arange(10, 25, 5) :: ', np.arange(10, 25, 5))\n",
    "\n",
    "# Create an array of evenly-spaced values\n",
    "print('np.linspace(0, 2, 9) :: ', np.linspace(0, 2, 9))\n"
   ]
  },
  {
   "cell_type": "code",
   "execution_count": 1209,
   "metadata": {},
   "outputs": [
    {
     "name": "stdout",
     "output_type": "stream",
     "text": [
      "x is :  [ 0.4839  0.1292  0.1781  0.6253]\ny is :  [ 0.4536  0.6875  0.3049  0.3486]\nz is :  [ 0.3561  0.5929  0.8928  0.8791]\n"
     ]
    }
   ],
   "source": [
    "\"\"\"From file manipulation\"\"\"\n",
    "# This is your data in the text file\n",
    "# Value1  Value2  Value3\n",
    "# 0.2536  0.1008  0.3857\n",
    "# 0.4839  0.4536  0.3561\n",
    "# 0.1292  0.6875  0.5929\n",
    "# 0.1781  0.3049  0.8928\n",
    "# 0.6253  0.3486  0.8791\n",
    "\n",
    "# Import your data\n",
    "x, y, z = np.loadtxt('data.txt',\n",
    "                     skiprows=1,\n",
    "                     unpack=True)\n",
    "\n",
    "print('x is : ', x)\n",
    "print('y is : ', y)\n",
    "print('z is : ', z)\n"
   ]
  },
  {
   "cell_type": "code",
   "execution_count": 1210,
   "metadata": {},
   "outputs": [
    {
     "name": "stdout",
     "output_type": "stream",
     "text": [
      "my_array2 is :  [[  1.29200000e-01   6.87500000e-01  -9.99000000e+02]\n [  1.78100000e-01   3.04900000e-01   8.92800000e-01]\n [ -9.99000000e+02   5.80100000e-01   2.03800000e-01]\n [  5.99300000e-01   4.35700000e-01   7.41000000e-01]]\n"
     ]
    }
   ],
   "source": [
    "# Your data in the text file\n",
    "# Value1  Value2  Value3\n",
    "# 0.4839  0.4536  0.3561\n",
    "# 0.1292  0.6875  MISSING\n",
    "# 0.1781  0.3049  0.8928\n",
    "# MISSING 0.5801  0.2038\n",
    "# 0.5993  0.4357  0.7410\n",
    "\n",
    "my_array2 = np.genfromtxt('data2.txt',\n",
    "                          skip_header=1,\n",
    "                          filling_values=-999)\n",
    "\n",
    "print('my_array2 is : ', my_array2)\n"
   ]
  },
  {
   "cell_type": "code",
   "execution_count": 1211,
   "metadata": {},
   "outputs": [
    {
     "name": "stdout",
     "output_type": "stream",
     "text": [
      "all done!\n"
     ]
    }
   ],
   "source": [
    "x = np.arange(0.0, 5.0, 1.0)\n",
    "np.savetxt('test.out', x, delimiter=',')\n",
    "print('all done!')\n"
   ]
  },
  {
   "cell_type": "code",
   "execution_count": 1212,
   "metadata": {},
   "outputs": [
    {
     "name": "stdout",
     "output_type": "stream",
     "text": [
      "2\n8\n  C_CONTIGUOUS : True\n  F_CONTIGUOUS : False\n  OWNDATA : True\n  WRITEABLE : True\n  ALIGNED : True\n  UPDATEIFCOPY : False\n2\n16\n2\n[[1 2 3 4]\n [5 6 7 8]]\nall done!\n"
     ]
    }
   ],
   "source": [
    "# Print the number of `my_array`'s dimensions\n",
    "print(my_2d_array.ndim)\n",
    "\n",
    "# Print the number of `my_array`'s elements\n",
    "print(my_2d_array.size)\n",
    "\n",
    "# Print information about `my_array`'s memory layout\n",
    "print(my_2d_array.flags)\n",
    "\n",
    "# Print the length of one array element in bytes\n",
    "print(my_2d_array.itemsize)\n",
    "\n",
    "# Print the total consumed bytes by `my_array`'s elements\n",
    "print(my_2d_array.nbytes)\n",
    "\n",
    "# Print the length of `my_array`\n",
    "print(len(my_2d_array))\n",
    "\n",
    "# Change the data type of `my_array`\n",
    "my_2d_array.astype(float)\n",
    "print(my_2d_array)\n",
    "print('all done!')"
   ]
  },
  {
   "cell_type": "code",
   "execution_count": 1213,
   "metadata": {},
   "outputs": [
    {
     "name": "stdout",
     "output_type": "stream",
     "text": [
      "(3, 4)\n(3, 4)\nx is :  [[ 1.  1.  1.  1.]\n [ 1.  1.  1.  1.]\n [ 1.  1.  1.  1.]]\ny is :  [[ 0.41639757  0.82036179  0.16714711  0.55898576]\n [ 0.91006192  0.89551928  0.87104498  0.90924249]\n [ 0.12776324  0.96752411  0.83518501  0.81746813]]\n"
     ]
    },
    {
     "data": {
      "text/plain": [
       "array([[ 1.41639757,  1.82036179,  1.16714711,  1.55898576],\n       [ 1.91006192,  1.89551928,  1.87104498,  1.90924249],\n       [ 1.12776324,  1.96752411,  1.83518501,  1.81746813]])"
      ]
     },
     "execution_count": 1213,
     "metadata": {},
     "output_type": "execute_result"
    }
   ],
   "source": [
    "# Initialize `x`\n",
    "x = np.ones((3, 4))\n",
    "\n",
    "# Check shape of `x`\n",
    "print(x.shape)\n",
    "\n",
    "# Initialize `y`\n",
    "y = np.random.random((3, 4))\n",
    "\n",
    "# Check shape of `y`\n",
    "print(y.shape)\n",
    "\n",
    "print('x is : ', x)\n",
    "print('y is : ', y)\n",
    "\n",
    "# Add `x` and `y`\n",
    "x + y\n"
   ]
  },
  {
   "cell_type": "code",
   "execution_count": 1214,
   "metadata": {},
   "outputs": [
    {
     "name": "stdout",
     "output_type": "stream",
     "text": [
      "(3, 4)\n(4,)\nx is  [[ 1.  1.  1.  1.]\n [ 1.  1.  1.  1.]\n [ 1.  1.  1.  1.]]\ny is  [0 1 2 3]\n"
     ]
    },
    {
     "data": {
      "text/plain": [
       "array([[ 1.,  0., -1., -2.],\n       [ 1.,  0., -1., -2.],\n       [ 1.,  0., -1., -2.]])"
      ]
     },
     "execution_count": 1214,
     "metadata": {},
     "output_type": "execute_result"
    }
   ],
   "source": [
    "# Initialize `x`\n",
    "x = np.ones((3, 4))\n",
    "\n",
    "# Check shape of `x`\n",
    "print(x.shape)\n",
    "\n",
    "# Initialize `y`\n",
    "y = np.arange(4)\n",
    "\n",
    "# Check shape of `y`\n",
    "print(y.shape)\n",
    "\n",
    "print('x is ', x)\n",
    "print('y is ', y)\n",
    "\n",
    "# Subtract `x` and `y`\n",
    "x - y\n"
   ]
  },
  {
   "cell_type": "code",
   "execution_count": 1215,
   "metadata": {},
   "outputs": [
    {
     "name": "stdout",
     "output_type": "stream",
     "text": [
      "x is :  [[ 1.  1.  1.  1.]\n [ 1.  1.  1.  1.]\n [ 1.  1.  1.  1.]]\ny is :  [[[ 0.45651446  0.79117771  0.35669032  0.33763346]\n  [ 0.73288554  0.01594377  0.69880262  0.41042691]\n  [ 0.05131554  0.83653638  0.87872197  0.33964877]]\n\n [[ 0.63940811  0.49903927  0.91654897  0.7759743 ]\n  [ 0.56383293  0.23080113  0.14944571  0.61210931]\n  [ 0.96672518  0.2646785   0.39515979  0.6337484 ]]\n\n [[ 0.07882324  0.27645398  0.80511146  0.12291427]\n  [ 0.41131046  0.12595022  0.27038006  0.64362809]\n  [ 0.9918451   0.50385958  0.95970528  0.69575505]]\n\n [[ 0.92166784  0.46886237  0.55990616  0.15685823]\n  [ 0.10223263  0.33703263  0.42604217  0.47300758]\n  [ 0.29849378  0.441038    0.76814297  0.23219606]]\n\n [[ 0.51635795  0.9083287   0.32623598  0.11421659]\n  [ 0.971499    0.50139701  0.16164373  0.62855017]\n  [ 0.77984874  0.11952869  0.04346118  0.5753598 ]]]\n"
     ]
    },
    {
     "data": {
      "text/plain": [
       "array([[[ 1.45651446,  1.79117771,  1.35669032,  1.33763346],\n        [ 1.73288554,  1.01594377,  1.69880262,  1.41042691],\n        [ 1.05131554,  1.83653638,  1.87872197,  1.33964877]],\n\n       [[ 1.63940811,  1.49903927,  1.91654897,  1.7759743 ],\n        [ 1.56383293,  1.23080113,  1.14944571,  1.61210931],\n        [ 1.96672518,  1.2646785 ,  1.39515979,  1.6337484 ]],\n\n       [[ 1.07882324,  1.27645398,  1.80511146,  1.12291427],\n        [ 1.41131046,  1.12595022,  1.27038006,  1.64362809],\n        [ 1.9918451 ,  1.50385958,  1.95970528,  1.69575505]],\n\n       [[ 1.92166784,  1.46886237,  1.55990616,  1.15685823],\n        [ 1.10223263,  1.33703263,  1.42604217,  1.47300758],\n        [ 1.29849378,  1.441038  ,  1.76814297,  1.23219606]],\n\n       [[ 1.51635795,  1.9083287 ,  1.32623598,  1.11421659],\n        [ 1.971499  ,  1.50139701,  1.16164373,  1.62855017],\n        [ 1.77984874,  1.11952869,  1.04346118,  1.5753598 ]]])"
      ]
     },
     "execution_count": 1215,
     "metadata": {},
     "output_type": "execute_result"
    }
   ],
   "source": [
    "# Initialize `x` and `y`\n",
    "x = np.ones((3, 4))\n",
    "y = np.random.random((5, 3, 4))\n",
    "\n",
    "print('x is : ', x)\n",
    "print('y is : ', y)\n",
    "\n",
    "# Add `x` and `y`\n",
    "x + y\n"
   ]
  },
  {
   "cell_type": "code",
   "execution_count": 1216,
   "metadata": {},
   "outputs": [
    {
     "name": "stdout",
     "output_type": "stream",
     "text": [
      "np.add(x, y) :  [[[ 1.45651446  1.79117771  1.35669032  1.33763346]\n  [ 1.73288554  1.01594377  1.69880262  1.41042691]\n  [ 1.05131554  1.83653638  1.87872197  1.33964877]]\n\n [[ 1.63940811  1.49903927  1.91654897  1.7759743 ]\n  [ 1.56383293  1.23080113  1.14944571  1.61210931]\n  [ 1.96672518  1.2646785   1.39515979  1.6337484 ]]\n\n [[ 1.07882324  1.27645398  1.80511146  1.12291427]\n  [ 1.41131046  1.12595022  1.27038006  1.64362809]\n  [ 1.9918451   1.50385958  1.95970528  1.69575505]]\n\n [[ 1.92166784  1.46886237  1.55990616  1.15685823]\n  [ 1.10223263  1.33703263  1.42604217  1.47300758]\n  [ 1.29849378  1.441038    1.76814297  1.23219606]]\n\n [[ 1.51635795  1.9083287   1.32623598  1.11421659]\n  [ 1.971499    1.50139701  1.16164373  1.62855017]\n  [ 1.77984874  1.11952869  1.04346118  1.5753598 ]]]\nnp.subtract(x, y) :  [[[ 0.54348554  0.20882229  0.64330968  0.66236654]\n  [ 0.26711446  0.98405623  0.30119738  0.58957309]\n  [ 0.94868446  0.16346362  0.12127803  0.66035123]]\n\n [[ 0.36059189  0.50096073  0.08345103  0.2240257 ]\n  [ 0.43616707  0.76919887  0.85055429  0.38789069]\n  [ 0.03327482  0.7353215   0.60484021  0.3662516 ]]\n\n [[ 0.92117676  0.72354602  0.19488854  0.87708573]\n  [ 0.58868954  0.87404978  0.72961994  0.35637191]\n  [ 0.0081549   0.49614042  0.04029472  0.30424495]]\n\n [[ 0.07833216  0.53113763  0.44009384  0.84314177]\n  [ 0.89776737  0.66296737  0.57395783  0.52699242]\n  [ 0.70150622  0.558962    0.23185703  0.76780394]]\n\n [[ 0.48364205  0.0916713   0.67376402  0.88578341]\n  [ 0.028501    0.49860299  0.83835627  0.37144983]\n  [ 0.22015126  0.88047131  0.95653882  0.4246402 ]]]\nnp.multiply(x, y) :  [[[ 0.45651446  0.79117771  0.35669032  0.33763346]\n  [ 0.73288554  0.01594377  0.69880262  0.41042691]\n  [ 0.05131554  0.83653638  0.87872197  0.33964877]]\n\n [[ 0.63940811  0.49903927  0.91654897  0.7759743 ]\n  [ 0.56383293  0.23080113  0.14944571  0.61210931]\n  [ 0.96672518  0.2646785   0.39515979  0.6337484 ]]\n\n [[ 0.07882324  0.27645398  0.80511146  0.12291427]\n  [ 0.41131046  0.12595022  0.27038006  0.64362809]\n  [ 0.9918451   0.50385958  0.95970528  0.69575505]]\n\n [[ 0.92166784  0.46886237  0.55990616  0.15685823]\n  [ 0.10223263  0.33703263  0.42604217  0.47300758]\n  [ 0.29849378  0.441038    0.76814297  0.23219606]]\n\n [[ 0.51635795  0.9083287   0.32623598  0.11421659]\n  [ 0.971499    0.50139701  0.16164373  0.62855017]\n  [ 0.77984874  0.11952869  0.04346118  0.5753598 ]]]\nnp.divide(x, y) :  [[[  2.1905111    1.26393854   2.8035524    2.96179177]\n  [  1.36446955  62.72042091   1.43101924   2.4364874 ]\n  [ 19.48727499   1.19540528   1.13801638   2.94421791]]\n\n [[  1.56394639   2.00385033   1.09104918   1.28870247]\n  [  1.77357502   4.33273443   6.69139326   1.63369512]\n  [  1.03442015   3.77816859   2.53062187   1.57791326]]\n\n [[ 12.68661406   3.61723859   1.24206405   8.13575163]\n  [  2.4312535    7.93964482   3.69849752   1.5536923 ]\n  [  1.00822195   1.98467995   1.04198656   1.43728744]]\n\n [[  1.08498957   2.13282205   1.78601357   6.37518362]\n  [  9.7816131    2.96707177   2.34718548   2.11413103]\n  [  3.35015359   2.26737834   1.30184099   4.30670531]]\n\n [[  1.93664105   1.10092304   3.06526581   8.75529558]\n  [  1.02933714   1.99442753   6.1864447    1.5909629 ]\n  [  1.28229995   8.36619241  23.00903839   1.73804288]]]\nnp.remainder(x, y) :  [[[  8.69710736e-02   2.08822290e-01   2.86619363e-01   3.24733082e-01]\n  [  2.67114461e-01   1.14862256e-02   3.01197378e-01   1.79146176e-01]\n  [  2.50047781e-02   1.63463624e-01   1.21278028e-01   3.20702455e-01]]\n\n [[  3.60591895e-01   1.92146418e-03   8.34510339e-02   2.24025700e-01]\n  [  4.36167071e-01   7.67954822e-02   1.03325755e-01   3.87890685e-01]\n  [  3.32748242e-02   2.05964497e-01   2.09680427e-01   3.66251604e-01]]\n\n [[  5.41211438e-02   1.70638064e-01   1.94888539e-01   1.66858124e-02]\n  [  1.77379078e-01   1.18348470e-01   1.88859805e-01   3.56371914e-01]\n  [  8.15490170e-03   4.96140423e-01   4.02947199e-02   3.04244947e-01]]\n\n [[  7.83321557e-02   6.22752621e-02   4.40093841e-01   5.88506382e-02]\n  [  7.99063602e-02   3.25934742e-01   1.47915658e-01   5.39848427e-02]\n  [  1.04518667e-01   1.17924008e-01   2.31857033e-01   7.12157638e-02]]\n\n [[  4.83642052e-01   9.16712976e-02   2.12920551e-02   8.62672852e-02]\n  [  2.85010027e-02   4.98602990e-01   3.01376163e-02   3.71449830e-01]\n  [  2.20151257e-01   4.37704982e-02   3.92819096e-04   4.24640203e-01]]]\n"
     ]
    }
   ],
   "source": [
    "# Add `x` and `y`\n",
    "print('np.add(x, y) : ', np.add(x, y))\n",
    "\n",
    "# Subtract `x` and `y`\n",
    "print('np.subtract(x, y) : ', np.subtract(x, y))\n",
    "\n",
    "# Multiply `x` and `y`\n",
    "print('np.multiply(x, y) : ', np.multiply(x, y))\n",
    "\n",
    "# Divide `x` and `y`\n",
    "print('np.divide(x, y) : ', np.divide(x, y))\n",
    "\n",
    "# Calculate the remainder of `x` and `y`\n",
    "print('np.remainder(x, y) : ', np.remainder(x, y))\n"
   ]
  },
  {
   "cell_type": "code",
   "execution_count": 1217,
   "metadata": {},
   "outputs": [
    {
     "name": "stdout",
     "output_type": "stream",
     "text": [
      "a is :  [[[ 1.  1.  1.  1.  1.]\n  [ 1.  1.  1.  1.  1.]]\n\n [[ 1.  1.  1.  1.  1.]\n  [ 1.  1.  1.  1.  1.]]\n\n [[ 1.  1.  1.  1.  1.]\n  [ 1.  1.  1.  1.  1.]]\n\n [[ 1.  1.  1.  1.  1.]\n  [ 1.  1.  1.  1.  1.]]]\nb is :  [[[ 0.  0.  0.  0.  0.]\n  [ 0.  0.  0.  0.  0.]]\n\n [[ 0.  0.  0.  0.  0.]\n  [ 0.  0.  0.  0.  0.]]\n\n [[ 0.  0.  0.  0.  0.]\n  [ 0.  0.  0.  0.  0.]]\n\n [[ 0.  0.  0.  0.  0.]\n  [ 0.  0.  0.  0.  0.]]]\nnp.logical_and(a, b) is :  [[[False False False False False]\n  [False False False False False]]\n\n [[False False False False False]\n  [False False False False False]]\n\n [[False False False False False]\n  [False False False False False]]\n\n [[False False False False False]\n  [False False False False False]]]\nnp.logical_or(a, b) is :  [[[ True  True  True  True  True]\n  [ True  True  True  True  True]]\n\n [[ True  True  True  True  True]\n  [ True  True  True  True  True]]\n\n [[ True  True  True  True  True]\n  [ True  True  True  True  True]]\n\n [[ True  True  True  True  True]\n  [ True  True  True  True  True]]]\nnp.logical_not(a, b) is :  [[[ 0.  0.  0.  0.  0.]\n  [ 0.  0.  0.  0.  0.]]\n\n [[ 0.  0.  0.  0.  0.]\n  [ 0.  0.  0.  0.  0.]]\n\n [[ 0.  0.  0.  0.  0.]\n  [ 0.  0.  0.  0.  0.]]\n\n [[ 0.  0.  0.  0.  0.]\n  [ 0.  0.  0.  0.  0.]]]\n"
     ]
    }
   ],
   "source": [
    "a = np.ones((4, 2, 5))\n",
    "\n",
    "# b = np.zeros((5, 3, 25))\n",
    "b = np.zeros((4, 2, 5))\n",
    "print('a is : ', a)\n",
    "print('b is : ', b)\n",
    "\n",
    "# `a` AND `b` \n",
    "print('np.logical_and(a, b) is : ', np.logical_and(a, b))\n",
    "\n",
    "# `a` OR `b`\n",
    "print('np.logical_or(a, b) is : ', np.logical_or(a, b))\n",
    "\n",
    "# `a` NOT `b`\n",
    "print('np.logical_not(a, b) is : ', np.logical_not(a, b))\n"
   ]
  },
  {
   "cell_type": "code",
   "execution_count": 1218,
   "metadata": {
    "collapsed": false
   },
   "outputs": [
    {
     "name": "stdout",
     "output_type": "stream",
     "text": [
      "my_array :  [[1 2 3 4]\n [5 6 7 8]]\nmy_array[0] :  [1 2 3 4]\nmy_array[1] :  [5 6 7 8]\nmy_array[1][2] :  7\nmy_array[1, 2] :  7\nmy_array2 :  [[  1.29200000e-01   6.87500000e-01  -9.99000000e+02]\n [  1.78100000e-01   3.04900000e-01   8.92800000e-01]\n [ -9.99000000e+02   5.80100000e-01   2.03800000e-01]\n [  5.99300000e-01   4.35700000e-01   7.41000000e-01]]\nmy_array2[0] :  [  1.29200000e-01   6.87500000e-01  -9.99000000e+02]\nmy_array2[1] :  [ 0.1781  0.3049  0.8928]\nmy_array2[2] :  [ -9.99000000e+02   5.80100000e-01   2.03800000e-01]\nmy_array2[3][2] :  0.741\nrand_3d_array :  [[[ 0.12902282  0.58237053  0.90565326  0.23963445]\n  [ 0.07063487  0.799685    0.4970377   0.74593901]\n  [ 0.48895197  0.38727889  0.17996883  0.17773867]]\n\n [[ 0.16310582  0.00972422  0.23736869  0.32228083]\n  [ 0.51542564  0.97972497  0.83406157  0.73029718]\n  [ 0.44265402  0.45224166  0.30908117  0.72791585]]\n\n [[ 0.39377534  0.47081116  0.08317429  0.04342959]\n  [ 0.43614859  0.79264391  0.49967329  0.92745078]\n  [ 0.55706153  0.79663278  0.17215232  0.50203447]]\n\n [[ 0.39281755  0.93917421  0.01714231  0.79655561]\n  [ 0.86801434  0.2949891   0.43153099  0.14866402]\n  [ 0.39072579  0.495405    0.23936768  0.98063534]]\n\n [[ 0.68174333  0.73433589  0.54920185  0.85501383]\n  [ 0.9659698   0.57573923  0.16058283  0.48146324]\n  [ 0.84689783  0.32551316  0.61457948  0.10856012]]]\nrand_3d_array[1,1,2] :  0.834061573514\n"
     ]
    }
   ],
   "source": [
    "\"\"\"How To Subset, Slice, And Index Arrays\"\"\"\n",
    "print('my_array : ', my_2d_array)\n",
    "print('my_array[0] : ', my_2d_array[0])\n",
    "print('my_array[1] : ', my_2d_array[1])\n",
    "print('my_array[1][2] : ', my_2d_array[1][2])\n",
    "print('my_array[1, 2] : ', my_2d_array[1, 2])\n",
    "print('my_array2 : ', my_array2)\n",
    "print('my_array2[0] : ', my_array2[0])\n",
    "print('my_array2[1] : ', my_array2[1])\n",
    "print('my_array2[2] : ', my_array2[2])\n",
    "print('my_array2[3][2] : ', my_array2[3][2])\n",
    "\n",
    "rand_3d_array = np.random.random((5, 3, 4))\n",
    "print('rand_3d_array : ', rand_3d_array)\n",
    "print('rand_3d_array[1,1,2] : ', rand_3d_array[1, 1, 2])"
   ]
  },
  {
   "cell_type": "code",
   "execution_count": 1219,
   "metadata": {},
   "outputs": [
    {
     "name": "stdout",
     "output_type": "stream",
     "text": [
      "[[1 2 3 4]]\n[2 6]\n[[ 0.16310582  0.00972422  0.23736869  0.32228083]\n [ 0.51542564  0.97972497  0.83406157  0.73029718]\n [ 0.44265402  0.45224166  0.30908117  0.72791585]]\n"
     ]
    }
   ],
   "source": [
    "# Select items at index 0 and 1\n",
    "print(my_2d_array[0:1])\n",
    "\n",
    "# Select items at row 0 and 1, column 1\n",
    "print(my_2d_array[0:2, 1])\n",
    "\n",
    "# Select items at row 1\n",
    "# This is the same as saying `rand_3d_array[1,:,:]\n",
    "print(rand_3d_array[1, ...])\n"
   ]
  },
  {
   "cell_type": "heading",
   "metadata": {},
   "level": 1,
   "source": [
    "By-heart this\n",
    "\n",
    "a[start:end] # items start through the end (but the end is not included!)\n",
    "a[start:]    # items start through the rest of the array\n",
    "a[:end]      # items from the beginning through the end (but the end is not included!)"
   ]
  },
  {
   "cell_type": "code",
   "execution_count": 1220,
   "metadata": {},
   "outputs": [
    {
     "name": "stdout",
     "output_type": "stream",
     "text": [
      "[1]\n[ 0.58237053  0.90565326  0.799685    0.74593901  0.51542564  0.97972497\n  0.83406157  0.73029718  0.72791585  0.79264391  0.92745078  0.55706153\n  0.79663278  0.50203447  0.93917421  0.79655561  0.86801434  0.98063534\n  0.68174333  0.73433589  0.54920185  0.85501383  0.9659698   0.57573923\n  0.84689783  0.61457948]\nmy_array :  [[1 2 3 4]\n [5 6 7 8]]\nfff 1 :  [5 2 7 1]\nfff 2 :  [[5 6 7 5]\n [1 2 3 1]\n [5 6 7 5]\n [1 2 3 1]]\nfff 2 : my_array[[1, 0, 1, 0]] ONLY :  [[5 6 7 8]\n [1 2 3 4]\n [5 6 7 8]\n [1 2 3 4]]\nfff 2 : my_array[:, [0, 1, 2, 0]] ONLY :  [[1 2 3 1]\n [5 6 7 5]]\n"
     ]
    }
   ],
   "source": [
    "# Try out a simple example\n",
    "print(my_2d_array[my_2d_array < 2])\n",
    "\n",
    "# Use the condition to index our 3d array\n",
    "print(rand_3d_array[rand_3d_array > 0.5])\n",
    "\n",
    "print('my_array : ', my_2d_array)\n",
    "# Select elements at (1,0), (0,1), (1,2) and (0,0)\n",
    "print('fff 1 : ', my_2d_array[[1, 0, 1, 0], [0, 1, 2, 0]])\n",
    "\n",
    "# Select a subset of the rows and columns\n",
    "print('fff 2 : ', my_2d_array[[1, 0, 1, 0]][:, [0, 1, 2, 0]])\n",
    "\n",
    "print('fff 2 : my_array[[1, 0, 1, 0]] ONLY : ', my_2d_array[[1, 0, 1, 0]])\n",
    "print('fff 2 : my_array[:, [0, 1, 2, 0]] ONLY : ', my_2d_array[:, [0, 1, 2, 0]])\n"
   ]
  },
  {
   "cell_type": "code",
   "execution_count": 1221,
   "metadata": {},
   "outputs": [
    {
     "name": "stdout",
     "output_type": "stream",
     "text": [
      "Search results for 'mean'\n-------------------------\nnumpy.mean\n    Compute the arithmetic mean along the specified axis.\nnumpy.nanmean\n    Compute the arithmetic mean along the specified axis, ignoring NaNs.\nnumpy.ma.mean\n    Returns the average of the array elements along given axis.\nnumpy.array_equiv\n    Returns True if input arrays are shape consistent and all elements equal.\nnumpy.matrix.mean\n    Returns the average of the matrix elements along the given axis.\nnumpy.chararray.mean\n    Returns the average of the array elements along given axis.\nnumpy.ma.anom\n    Compute the anomalies (deviations from the arithmetic mean)\nnumpy.ma.fix_invalid\n    Return input with invalid data masked and replaced by a fill value.\nnumpy.ma.MaskedArray.anom\n    Compute the anomalies (deviations from the arithmetic mean)\nnumpy.polynomial.polyutils.trimcoef\n    Remove \"small\" \"trailing\" coefficients from a polynomial.\nnumpy.exp\n    Calculate the exponential of all elements in the input array.\nnumpy.pad\n    Pads an array.\nnumpy.put\n    Replaces specified elements of an array with given values.\nnumpy.std\n    Compute the standard deviation along the specified axis.\nnumpy.sum\n    Sum of array elements over a given axis.\nnumpy.var\n    Compute the variance along the specified axis.\nnumpy.copy\n    Return an array copy of the given object.\nnumpy.diff\n    Calculate the n-th discrete difference along given axis.\nnumpy.full\n    Return a new array of given shape and type, filled with `fill_value`.\nnumpy.prod\n    Return the product of array elements over a given axis.\nnumpy.take\n    Take elements from an array along an axis.\nnumpy.block\n    Assemble an nd-array from nested lists of blocks.\nnumpy.isnan\n    Test element-wise for NaN and return result as a boolean array.\nnumpy.ravel\n    Return a contiguous flattened array.\nnumpy.copyto\n    Copies values from one array to another, broadcasting as necessary.\nnumpy.einsum\n    einsum(subscripts, *operands, out=None, dtype=None, order='K',\nnumpy.kaiser\n    Return the Kaiser window.\nnumpy.median\n    Compute the median along the specified axis.\nnumpy.nanmax\n    Return the maximum of an array or maximum along an axis, ignoring any\nnumpy.nanmin\n    Return minimum of an array or minimum along an axis, ignoring any NaNs.\nnumpy.nanstd\n    Compute the standard deviation along the specified axis, while\nnumpy.nansum\n    Return the sum of array elements over a given axis treating Not a\nnumpy.nanvar\n    Compute the variance along the specified axis, while ignoring NaNs.\nnumpy.nditer\n    Efficient multi-dimensional iterator object to iterate over arrays.\nnumpy.average\n    Compute the weighted average along the specified axis.\nnumpy.hamming\n    Return the Hamming window.\nnumpy.hanning\n    Return the Hanning window.\nnumpy.polyfit\n    Least squares polynomial fit.\nnumpy.reshape\n    Gives a new shape to an array without changing its data.\nnumpy.bartlett\n    Return the Bartlett window.\nnumpy.blackman\n    Return the Blackman window.\nnumpy.can_cast\n    Returns True if cast between data types can occur according to the\nnumpy.digitize\n    Return the indices of the bins to which each value in input array belongs.\nnumpy.fromfile\n    Construct an array from data in a text or binary file.\nnumpy.fromiter\n    Create a new 1-dimensional array from an iterable object.\nnumpy.gradient\n    Return the gradient of an N-dimensional array.\nnumpy.isfinite\n    Test element-wise for finiteness (not infinity or not Not a Number).\nnumpy.full_like\n    Return a full array with the same shape and type as a given array.\nnumpy.histogram\n    Compute the histogram of a set of data.\nnumpy.nanmedian\n    Compute the median along the specified axis, while ignoring NaNs.\nnumpy.ones_like\n    Return an array of ones with the same shape and type as a given array.\nnumpy.empty_like\n    Return a new array with the same shape and type as a given array.\nnumpy.frombuffer\n    Interpret a buffer as a 1-dimensional array.\nnumpy.nan_to_num\n    Replace nan with zero and inf with finite numbers.\nnumpy.percentile\n    Compute the qth percentile of the data along the specified axis.\nnumpy.recfromcsv\n    Load ASCII data stored in a comma-separated file.\nnumpy.recfromtxt\n    Load ASCII data from a file and return it in a record array.\nnumpy.trim_zeros\n    Trim the leading and/or trailing zeros from a 1-D array or sequence.\nnumpy.zeros_like\n    Return an array of zeros with the same shape and type as a given array.\nnumpy.ma.dot\n    Return the dot product of two arrays.\nnumpy.ma.exp\n    Calculate the exponential of all elements in the input array.\nnumpy.ma.var\n    Compute the variance along the specified axis.\nnumpy.ma.copy\n    a.copy(order='C')\nnumpy.fft.fft2\n    Compute the 2-dimensional discrete Fourier Transform\nnumpy.fft.fftn\n    Compute the N-dimensional discrete Fourier Transform.\nnumpy.fft.rfft\n    Compute the one-dimensional discrete Fourier Transform for real input.\nnumpy.busday_offset\n    First adjusts the date to fall on a valid day according to\nnumpy.count_nonzero\n    Counts the number of non-zero values in the array ``a``.\nnumpy.nanpercentile\n    Compute the qth percentile of the data along the specified axis,\nnumpy.fft.ifft2\n    Compute the 2-dimensional inverse discrete Fourier Transform.\nnumpy.fft.ifftn\n    Compute the N-dimensional inverse discrete Fourier Transform.\nnumpy.fft.rfftn\n    Compute the N-dimensional discrete Fourier Transform for real input.\nnumpy.ma.ravel\n    Returns a 1D version of self, as a view.\nnumpy.fft.irfftn\n    Compute the inverse of the N-dimensional FFT of real input.\nnumpy.ma.median\n    Compute the median along the specified axis.\nnumpy.linalg.svd\n    Singular Value Decomposition.\nnumpy.bytes0.split\n    Return a list of the sections in the bytes, using sep as the delimiter.\nnumpy.ma.polyfit\n    Least squares polynomial fit.\nnumpy.may_share_memory\n    Determine if two arrays might share memory\nnumpy.linalg.cond\n    Compute the condition number of a matrix.\nnumpy.linalg.norm\n    Matrix or vector norm.\nnumpy.bytes0.decode\n    Decode the bytes using the codec registered for encoding.\nnumpy.bytes0.rsplit\n    Return a list of the sections in the bytes, using sep as the delimiter.\nnumpy.bytes0.replace\n    Return a copy with all occurrences of substring old replaced by new.\nnumpy.str0.encode\n    Encode S using the codec registered for encoding. Default encoding\nnumpy.chararray.copy\n    Return a copy of the array.\nnumpy.matlib.randn\n    Return a random matrix with data from the \"standard normal\" distribution.\nnumpy.chararray.sort\n    Sort an array, in-place.\nnumpy.matrix.ravel\n    Return a flattened matrix.\nnumpy.chararray.view\n    New view of array with the same data.\nnumpy.ma.empty_like\n    Return a new array with the same shape and type as a given array.\nnumpy.ma.frombuffer\n    Interpret a buffer as a 1-dimensional array.\nnumpy.chararray.astype\n    Copy of the array, cast to a specified type.\nnumpy.matrix.flatten\n    Return a flattened copy of the matrix.\nnumpy.testing.Tester\n    Nose test runner.\nnumpy.chararray.flatten\n    Return a copy of the array collapsed into one dimension.\nnumpy.chararray.tobytes\n    Construct Python bytes containing the raw data bytes in the array.\nnumpy.chararray.tostring\n    Construct Python bytes containing the raw data bytes in the array.\nnumpy.matrix.partition\n    Rearranges the elements in the array in such a way that value of the\nnumpy.chararray.transpose\n    a.transpose(*axes)\nnumpy.ma.MaskedArray.mean\n    Returns the average of the array elements along given axis.\nnumpy.ma.MaskedArray.dot\n    Masked dot product of two arrays. Note that `out` and `strict` are\nnumpy.ma.MaskedArray.var\n    Compute the variance along the specified axis.\nnumpy.ma.MaskedArray.copy\n    Return a copy of the array.\nnumpy.ma.MaskedArray.view\n    New view of array with the same data.\nnumpy.core.multiarray.scalar\n    Return a new scalar array of the given type initialized with obj.\nnumpy.testing.suppress_warnings\n    Context manager and decorator doing much the same as\nnumpy.ma.MaskedArray.ravel\n    Returns a 1D version of self, as a view.\nnumpy.ma.MaskedArray.filled\n    Return a copy of self, with masked values filled with a given value.\nnumpy.lib.format.open_memmap\n    Open a .npy file as a memory-mapped array.\nnumpy.lib.format.write_array\n    Write an array to an NPY file, including a header.\nnumpy.ma.MaskedArray.flatten\n    Return a copy of the array collapsed into one dimension.\nnumpy.polynomial.Hermite._fit\n    Least squares fit of Hermite series to data.\nnumpy.ma.MaskedArray.partition\n    Rearranges the elements in the array in such a way that value of the\nnumpy.ma.MaskedArray.transpose\n    a.transpose(*axes)\nnumpy.polynomial.HermiteE._fit\n    Least squares fit of Hermite series to data.\nnumpy.polynomial.Laguerre._fit\n    Least squares fit of Laguerre series to data.\nnumpy.polynomial.Legendre._fit\n    Least squares fit of Legendre series to data.\nnumpy.polynomial.Chebyshev._fit\n    Least squares fit of Chebyshev series to data.\nnumpy.distutils.command.bdist_rpm.bdist_rpm.set_undefined_options\n    Set the values of any \"undefined\" options from corresponding\nnumpy.polynomial.Polynomial._fit\n    Least-squares fit of a polynomial to data.\nnumpy.lib.format._write_array_header\n    Write the header for an array and returns the version used\nnumpy.distutils.numpy_distribution.NumpyDistribution._set_command_options\n    Set the options for 'command_obj' from 'option_dict'.  Basically\nnumpy.testing.Tester._get_custom_doctester\n    Return instantiated plugin for doctests\nnumpy.distutils.fcompiler.FCompiler.link\n    Link a bunch of stuff together to create an executable or\nnumpy.distutils.msvccompiler.MSVCCompiler.link\n    Link a bunch of stuff together to create an executable or\nnumpy.distutils.intelccompiler.IntelCCompiler.link\n    Link a bunch of stuff together to create an executable orNone\nData-type of the array's elements.\n\nParameters\n----------\nNone\n\nReturns\n-------\nd : numpy dtype object\n\nSee Also\n--------\nnumpy.dtype\n\nExamples\n--------\n>>> x\narray([[0, 1],\n       [2, 3]])\n>>> x.dtype\ndtype('int32')\n>>> type(x.dtype)\n<type 'numpy.dtype'>\nNone\n"
     ]
    }
   ],
   "source": [
    "# Look up info on `mean` with `np.lookfor()` \n",
    "print(np.lookfor(\"mean\"))\n",
    "\n",
    "# Get info on data types with `np.info()`\n",
    "print(np.info(np.ndarray.dtype))\n"
   ]
  },
  {
   "cell_type": "code",
   "execution_count": 1222,
   "metadata": {},
   "outputs": [
    {
     "name": "stdout",
     "output_type": "stream",
     "text": [
      "[[1 2 3 4]\n [5 6 7 8]]\nnp.transpose() :  [[1 5]\n [2 6]\n [3 7]\n [4 8]]\nmy_array.T :  [[1 5]\n [2 6]\n [3 7]\n [4 8]]\n"
     ]
    }
   ],
   "source": [
    "# Print `my_array`\n",
    "print(my_2d_array)\n",
    "\n",
    "# Transpose `my_array`\n",
    "print('np.transpose() : ', np.transpose(my_2d_array))\n",
    "\n",
    "# Or use `T` to transpose `my_array`\n",
    "print('my_array.T : ', my_2d_array.T)\n"
   ]
  },
  {
   "cell_type": "code",
   "execution_count": 1223,
   "metadata": {},
   "outputs": [
    {
     "name": "stdout",
     "output_type": "stream",
     "text": [
      "x is :  [[ 1.  1.  1.  1.]\n [ 1.  1.  1.  1.]\n [ 1.  1.  1.  1.]]\nx.shape :  (3, 4)\nx after np.resize(x, (6, 4)) is :  [[ 1.  1.  1.  1.]\n [ 1.  1.  1.  1.]\n [ 1.  1.  1.  1.]]\nx.shape after np.resize(x, (6, 4)) is :  (3, 4)\nyy after np.resize(x, (6, 4)) is :  [[ 1.  1.  1.  1.]\n [ 1.  1.  1.  1.]\n [ 1.  1.  1.  1.]\n [ 1.  1.  1.  1.]\n [ 1.  1.  1.  1.]\n [ 1.  1.  1.  1.]]\nyy.shape after np.resize(x, (6, 4)) is :  (6, 4)\nx after resize((6, 4)) :  [[ 1.  1.  1.  1.]\n [ 1.  1.  1.  1.]\n [ 1.  1.  1.  1.]\n [ 0.  0.  0.  0.]\n [ 0.  0.  0.  0.]\n [ 0.  0.  0.  0.]]\nx.shape after resize((6, 4)) :  (6, 4)\n"
     ]
    }
   ],
   "source": [
    "\"\"\"Reshaping Versus Resizing Your Arrays\"\"\"\n",
    "# resize kinda stuff\n",
    "print('x is : ', x)\n",
    "# Print the shape of `x`\n",
    "print('x.shape : ', x.shape)\n",
    "\n",
    "# Resize `x` to ((6,4))\n",
    "yy = np.resize(x, (6, 4))\n",
    "print('x after np.resize(x, (6, 4)) is : ', x)\n",
    "print('x.shape after np.resize(x, (6, 4)) is : ', x.shape)\n",
    "\n",
    "print('yy after np.resize(x, (6, 4)) is : ', yy)\n",
    "print('yy.shape after np.resize(x, (6, 4)) is : ', yy.shape)\n",
    "\n",
    "# Try out this as well\n",
    "x.resize((6, 4))\n",
    "print('x after resize((6, 4)) : ', x)\n",
    "# Print the shape of `x`\n",
    "print('x.shape after resize((6, 4)) : ', x.shape)\n"
   ]
  },
  {
   "cell_type": "code",
   "execution_count": 1224,
   "metadata": {},
   "outputs": [
    {
     "name": "stdout",
     "output_type": "stream",
     "text": [
      "before reshape : x :  [[ 1.  1.  1.  1.]\n [ 1.  1.  1.  1.]\n [ 1.  1.  1.  1.]]\nafter x.size : x :  [[ 1.  1.  1.  1.]\n [ 1.  1.  1.  1.]\n [ 1.  1.  1.  1.]]\nafter x.size : yy :  12\nafter reshape : x :  [[ 1.  1.  1.  1.]\n [ 1.  1.  1.  1.]\n [ 1.  1.  1.  1.]]\nafter reshape : zz :  [[ 1.  1.  1.  1.  1.  1.]\n [ 1.  1.  1.  1.  1.  1.]]\nfinally x is :  [[ 1.  1.  1.  1.]\n [ 1.  1.  1.  1.]\n [ 1.  1.  1.  1.]]\nfinally z is :  [ 1.  1.  1.  1.  1.  1.  1.  1.  1.  1.  1.  1.]\n"
     ]
    }
   ],
   "source": [
    "# reshape kinda stuff\n",
    "x = np.ones((3, 4))\n",
    "# print(x)\n",
    "# Print the size of `x` to see what's possible\n",
    "print('before reshape : x : ', x)\n",
    "yy = x.size\n",
    "print('after x.size : x : ', x)\n",
    "print('after x.size : yy : ', yy)\n",
    "\n",
    "# Reshape `x` to (2,6)\n",
    "zz = x.reshape((2, 6))\n",
    "print('after reshape : x : ', x)\n",
    "print('after reshape : zz : ', zz)\n",
    "\n",
    "# Flatten `x`\n",
    "z = x.ravel()\n",
    "\n",
    "# Print `z`\n",
    "print('finally x is : ', x)\n",
    "print('finally z is : ', z)\n"
   ]
  },
  {
   "cell_type": "code",
   "execution_count": 1225,
   "metadata": {},
   "outputs": [
    {
     "name": "stdout",
     "output_type": "stream",
     "text": [
      "before appending my_2d_array :  [[1 2 3 4]\n [5 6 7 8]]\nbefore appending my_2d_array : new_array :  [ 1  2  3  4  5  6  7  8  7  8  9 10]\nmy_1d_array :  [1 2 3 4]\nafter appending my_1d_array :  [ 1  2  3  4  7  8  9 10]\nagain before appending my_2d_array :  [[1 2 3 4]\n [5 6 7 8]]\nagain after appending my_2d_array : new_2d_array :  [[1 2 3 4 7]\n [5 6 7 8 8]]\n"
     ]
    }
   ],
   "source": [
    "\"\"\"How To Append Arrays\"\"\"\n",
    "\n",
    "# Append a 1D array to your `my_array`\n",
    "print('before appending my_2d_array : ', my_2d_array)\n",
    "new_array = np.append(my_2d_array, [7, 8, 9, 10])\n",
    "# Print `new_array`\n",
    "print('before appending my_2d_array : new_array : ', new_array)\n",
    "\n",
    "my_1d_array = np.array([1, 2, 3, 4], np.int16)\n",
    "print('my_1d_array : ', my_1d_array)\n",
    "print('after appending my_1d_array : ', np.append(my_1d_array, [7, 8, 9, 10]))\n",
    "\n",
    "print('again before appending my_2d_array : ', my_2d_array)\n",
    "# Append an extra column to your `my_2d_array`\n",
    "new_2d_array = np.append(my_2d_array, [[7], [8]], axis=1)\n",
    "\"\"\"Remember that axis 1 indicates the columns, while axis 0 indicates the rows in 2-D arrays\"\"\"\n",
    "print('again after appending my_2d_array : new_2d_array : ', new_2d_array)\n"
   ]
  },
  {
   "cell_type": "code",
   "execution_count": 1226,
   "metadata": {},
   "outputs": [
    {
     "name": "stdout",
     "output_type": "stream",
     "text": [
      "my_1d_array before insertion :  [1 2 3 4]\nmy_1d_array after insertion :  [1 5 2 3 4]\nmy_1d_array before deletion :  [1 2 3 4]\nmy_1d_array after deletion :  [1 3 4]\nmy_2d_array before insertion :  [[1 2 3 4]\n [5 6 7 8]]\nmy_2d_array after insertion :  [1 5 2 3 4 5 6 7 8]\nmy_2d_array before deletion :  [[1 2 3 4]\n [5 6 7 8]]\nmy_2d_array after deletion :  [1 3 4 5 6 7 8]\n"
     ]
    }
   ],
   "source": [
    "# Insert `5` at index 1\n",
    "print('my_1d_array before insertion : ', my_1d_array)\n",
    "# np.insert(my_1d_array, 1, 5)\n",
    "print('my_1d_array after insertion : ', np.insert(my_1d_array, 1, 5))\n",
    "\n",
    "# Delete the value at index 1\n",
    "print('my_1d_array before deletion : ', my_1d_array)\n",
    "# np.delete(my_1d_array, [1])\n",
    "print('my_1d_array after deletion : ', np.delete(my_1d_array, [1]))\n",
    "\n",
    "# Insert `5` at index 1\n",
    "print('my_2d_array before insertion : ', my_2d_array)\n",
    "# np.insert(my_2d_array, 1, 5)\n",
    "print('my_2d_array after insertion : ', np.insert(my_2d_array, 1, 5))\n",
    "\n",
    "# Delete the value at index 1\n",
    "print('my_2d_array before deletion : ', my_2d_array)\n",
    "# np.delete(my_2d_array, [1])\n",
    "print('my_2d_array after deletion : ', np.delete(my_2d_array, [1]))\n"
   ]
  },
  {
   "cell_type": "code",
   "execution_count": 1227,
   "metadata": {},
   "outputs": [
    {
     "name": "stdout",
     "output_type": "stream",
     "text": [
      "(2, 2, 4)\n(array([4, 2, 2, 1, 1, 1, 1, 1, 1, 2]), array([  1. ,   2.1,   3.2,   4.3,   5.4,   6.5,   7.6,   8.7,   9.8,\n        10.9,  12. ]))\n(array([0, 2, 2, 2, 2, 1, 1, 1, 1, 1, 1, 2]), array([ 0,  1,  2,  3,  4,  5,  6,  7,  8,  9, 10, 11, 12]))\n"
     ]
    },
    {
     "data": {
      "image/png": "[encoded data removed]",
      "text/plain": [
       "<matplotlib.figure.Figure at 0x113efadd8>"
      ]
     },
     "metadata": {},
     "output_type": "display_data"
    }
   ],
   "source": [
    "\"\"\"Visualizing Numpy arrays\"\"\"\n",
    "# Initialize your array\n",
    "my_3d_array = np.array([[[1,2,3,4], [5,6,7,8]], [[1,2,3,4], [9,10,11,12]]], dtype=np.int64)\n",
    "\n",
    "print(my_3d_array.shape)\n",
    "\n",
    "# Pass the array to `np.histogram()`\n",
    "print(np.histogram(my_3d_array))\n",
    "\n",
    "# Specify the number of bins\n",
    "print(np.histogram(my_3d_array, bins=range(0,13)))\n",
    "\n",
    "# Construct the histogram with a flattened 3d array and a range of bins\n",
    "plt.hist(my_3d_array.ravel(), bins=range(0,13))\n",
    "\n",
    "# Add a title to the plot\n",
    "plt.title('Frequency of My 3D Array Elements')\n",
    "\n",
    "# Show the plot\n",
    "plt.show()"
   ]
  },
  {
   "cell_type": "code",
   "execution_count": 1228,
   "metadata": {},
   "outputs": [
    {
     "data": {
      "image/png": "[encoded data removed]",
      "text/plain": [
       "<matplotlib.figure.Figure at 0x1109edcf8>"
      ]
     },
     "metadata": {},
     "output_type": "display_data"
    }
   ],
   "source": [
    "\"\"\"Using meshgrid()\"\"\"\n",
    "\n",
    "# Create an array\n",
    "points = np.arange(-5, 5, 0.01)\n",
    "\n",
    "# Make a meshgrid\n",
    "xs, ys = np.meshgrid(points, points)\n",
    "z = np.sqrt(xs ** 2 + ys ** 2)\n",
    "\n",
    "# Display the image on the axes\n",
    "plt.imshow(z, cmap=plt.cm.gray)\n",
    "\n",
    "# Draw a color bar\n",
    "plt.colorbar()\n",
    "\n",
    "# Show the plot\n",
    "plt.show()\n"
   ]
  }
 ],
 "metadata": {
  "kernelspec": {
   "display_name": "Python 2",
   "language": "python",
   "name": "python2"
  },
  "language_info": {
   "codemirror_mode": {
    "name": "ipython",
    "version": 2
   },
   "file_extension": ".py",
   "mimetype": "text/x-python",
   "name": "python",
   "nbconvert_exporter": "python",
   "pygments_lexer": "ipython2",
   "version": "2.7.6"
  }
 },
 "nbformat": 4,
 "nbformat_minor": 0
}
