{
 "cells": [
  {
   "cell_type": "code",
   "execution_count": 2468,
   "metadata": {
    "collapsed": true
   },
   "outputs": [
    {
     "name": "stdout",
     "output_type": "stream",
     "text": [
      "['bear', 'lion', 'panda', 'zebra']\n['bear', 'lion', 'panda', 'zebra', ['chimpanzees', 'gorillas', 'orangutans', 'gibbons'], 'snake', 'giraffe']\n"
     ]
    }
   ],
   "source": [
    "\"\"\"Demo of List\"\"\"\n",
    "\n",
    "# Tutorial @ https://www.datacamp.com/community/tutorials/18-most-common-python-list-questions-learn-python\n",
    "\n",
    "# These list elements are all of the same type\n",
    "zoo = ['bear', 'lion', 'panda', 'zebra']\n",
    "print(zoo)\n",
    "\n",
    "# But these list elements are not\n",
    "biggerZoo = ['bear', 'lion', 'panda', 'zebra', ['chimpanzees', 'gorillas', 'orangutans', 'gibbons'], 'snake', 'giraffe']\n",
    "print(biggerZoo)\n"
   ]
  },
  {
   "cell_type": "code",
   "execution_count": 2469,
   "metadata": {},
   "outputs": [
    {
     "name": "stdout",
     "output_type": "stream",
     "text": [
      "False\nTrue\n"
     ]
    }
   ],
   "source": [
    "# Import the `collections` library\n",
    "import collections\n",
    "\n",
    "# Check if a dictionary is hashable\n",
    "print(isinstance({}, collections.Hashable))\n",
    "\n",
    "# Check if a float is hashable\n",
    "print(isinstance(0.125, collections.Hashable))"
   ]
  },
  {
   "cell_type": "code",
   "execution_count": 2470,
   "metadata": {},
   "outputs": [
    {
     "name": "stdout",
     "output_type": "stream",
     "text": [
      "bear\n"
     ]
    }
   ],
   "source": [
    "# Select the first list element\n",
    "oneZooAnimal = biggerZoo[0]\n",
    "\n",
    "# Print `oneZooAnimal`\n",
    "print(oneZooAnimal)"
   ]
  },
  {
   "cell_type": "code",
   "execution_count": 2471,
   "metadata": {},
   "outputs": [
    {
     "name": "stdout",
     "output_type": "stream",
     "text": [
      "giraffe\nsnake\n"
     ]
    }
   ],
   "source": [
    "# Pass -1 to the index operator on biggerZoo\n",
    "last_item = biggerZoo[-1]\n",
    "print(last_item)\n",
    "\n",
    "# Pass -2 to the index operator on biggerZoo\n",
    "just_before_last_item = biggerZoo[-2]\n",
    "print(just_before_last_item)"
   ]
  },
  {
   "cell_type": "code",
   "execution_count": 2472,
   "metadata": {},
   "outputs": [
    {
     "name": "stdout",
     "output_type": "stream",
     "text": [
      "biggerZoo[3:] :  ['zebra', ['chimpanzees', 'gorillas', 'orangutans', 'gibbons'], 'snake', 'giraffe']\nbiggerZoo[:5] :  ['bear', 'lion', 'panda', 'zebra', ['chimpanzees', 'gorillas', 'orangutans', 'gibbons']]\nbiggerZoo[::] :  ['bear', 'lion', 'panda', 'zebra', ['chimpanzees', 'gorillas', 'orangutans', 'gibbons'], 'snake', 'giraffe']\nbiggerZoo[:3:] :  ['bear', 'lion', 'panda']\nbiggerZoo[2:3:] :  ['panda']\nbiggerZoo[1:3:] :  ['lion', 'panda']\nbiggerZoo[1:1:] :  []\nbiggerZoo[1:1:3] :  []\n"
     ]
    },
    {
     "data": {
      "text/plain": [
       "'In general form\\n# items start through the end (but the end is not included!)\\na[start:end]\\n\\n# items start through the rest of the array\\na[start:]    \\n\\n# items from the beginning through the end (but the end is not included!)\\na[:end]'"
      ]
     },
     "execution_count": 2472,
     "metadata": {},
     "output_type": "execute_result"
    }
   ],
   "source": [
    "# The Slice Notation In Lists\n",
    "# Use the slice notation like this\n",
    "someZooAnimals = biggerZoo[3:]\n",
    "\n",
    "# Print to see what you exactly select from `biggerZoo`\n",
    "print('biggerZoo[3:] : ', someZooAnimals)\n",
    "\n",
    "# Try putting 2 on the other side of the colon\n",
    "otherZooAnimals = biggerZoo[:5]\n",
    "\n",
    "# Print to see what you're getting back\n",
    "print('biggerZoo[:5] : ', otherZooAnimals)\n",
    "\n",
    "# another form\n",
    "print('biggerZoo[::] : ', biggerZoo[::])\n",
    "print('biggerZoo[:3:] : ', biggerZoo[:3:])\n",
    "print('biggerZoo[2:3:] : ', biggerZoo[2:3:])\n",
    "print('biggerZoo[1:3:] : ', biggerZoo[1:3:])\n",
    "print('biggerZoo[1:1:] : ', biggerZoo[1:1:])\n",
    "print('biggerZoo[1:1:3] : ', biggerZoo[1:1:3])\n",
    "\"\"\"In general form\n",
    "# items start through the end (but the end is not included!)\n",
    "a[start:end]\n",
    "\n",
    "# items start through the rest of the array\n",
    "a[start:]    \n",
    "\n",
    "# items from the beginning through the end (but the end is not included!)\n",
    "a[:end]\"\"\"\n"
   ]
  },
  {
   "cell_type": "code",
   "execution_count": 2473,
   "metadata": {},
   "outputs": [
    {
     "name": "stdout",
     "output_type": "stream",
     "text": [
      "['panda', ['chimpanzees', 'gorillas', 'orangutans', 'gibbons'], 'giraffe']\n['lion', 'zebra', 'snake']\n"
     ]
    }
   ],
   "source": [
    "\"\"\"start through not past end, by step\n",
    "a[start:end:step]\"\"\"\n",
    "# Print to see how the step value influences your result\n",
    "print(biggerZoo[2::2])\n",
    "print(biggerZoo[1::2])"
   ]
  },
  {
   "cell_type": "code",
   "execution_count": 2474,
   "metadata": {},
   "outputs": [
    {
     "name": "stdout",
     "output_type": "stream",
     "text": [
      "a\n"
     ]
    }
   ],
   "source": [
    "# Import `choice` from the `random` library\n",
    "from random import choice\n",
    "\n",
    "# Construct your `list` variable with a list of the first 4 letters of the alphabet\n",
    "list = ['a', 'b', 'c', 'd']\n",
    "\n",
    "# Print your random 'list' element\n",
    "print(choice(list))"
   ]
  },
  {
   "cell_type": "code",
   "execution_count": 2475,
   "metadata": {},
   "outputs": [
    {
     "name": "stdout",
     "output_type": "stream",
     "text": [
      "c\n"
     ]
    }
   ],
   "source": [
    "# Import `randrange` from the `random` library\n",
    "from random import randrange\n",
    "\n",
    "# Construct your `randomLetters` variable with a list of the first 4 letters of the alphabet\n",
    "randomLetters = ['a', 'b', 'c', 'd']\n",
    "\n",
    "# Select a random index from 'randomLetters`\n",
    "randomIndex = randrange(0,len(randomLetters))\n",
    "\n",
    "# Print your random element from `random`\n",
    "print(randomLetters[randomIndex])"
   ]
  },
  {
   "cell_type": "code",
   "execution_count": 2476,
   "metadata": {},
   "outputs": [
    {
     "name": "stdout",
     "output_type": "stream",
     "text": [
      "OneTwoThree\n123\n"
     ]
    }
   ],
   "source": [
    "\"\"\"How To Transform Python Lists Into Other Data Structures\"\"\"\n",
    "\n",
    "# List of Strings to a String\n",
    "listOfStrings = ['One', 'Two', 'Three']\n",
    "strOfStrings = ''.join(listOfStrings)\n",
    "print(strOfStrings)\n",
    "\n",
    "# List Of Integers to a String\n",
    "listOfNumbers = [1, 2, 3]\n",
    "strOfNumbers = ''.join(str(n) for n in listOfNumbers)\n",
    "print(strOfNumbers)"
   ]
  },
  {
   "cell_type": "code",
   "execution_count": 2477,
   "metadata": {},
   "outputs": [
    {
     "data": {
      "text/plain": [
       "{'One', 'Three', 'Two'}"
      ]
     },
     "execution_count": 2477,
     "metadata": {},
     "output_type": "execute_result"
    }
   ],
   "source": [
    "# Pass your list to `tuple()`\n",
    "tuple(listOfStrings)\n",
    "\n",
    "# Transform your list into a set\n",
    "set(listOfStrings)"
   ]
  },
  {
   "cell_type": "code",
   "execution_count": 2478,
   "metadata": {},
   "outputs": [
    {
     "name": "stdout",
     "output_type": "stream",
     "text": [
      "{'hello': 'world', '1': '2'}\n['hello', '1']\n['world', '2']\nand another\n{'hello': 'world', '1': '1'}\n['hello', '1']\n['world', '1', '2']\n"
     ]
    }
   ],
   "source": [
    "\"\"\"How To Convert Lists To A Dictionaries\"\"\"\n",
    "# Convert to a dictionary\n",
    "helloWorld = ['hello', 'world', '1', '2']\n",
    "helloWorldDictionary = dict(zip(helloWorld[0::2], helloWorld[1::2]))\n",
    "# Print out the result\n",
    "print(helloWorldDictionary)\n",
    "\n",
    "print(helloWorld[0::2])\n",
    "print(helloWorld[1::2])\n",
    "\n",
    "print('and another')\n",
    "helloWorldDictionary = dict(zip(helloWorld[0::2], helloWorld[1::1]))\n",
    "# Print out the result\n",
    "print(helloWorldDictionary)\n",
    "\n",
    "print(helloWorld[0::2])\n",
    "print(helloWorld[1::1])"
   ]
  },
  {
   "cell_type": "code",
   "execution_count": 2479,
   "metadata": {},
   "outputs": [
    {
     "name": "stdout",
     "output_type": "stream",
     "text": [
      "i is :  <list_iterator object at 0x10ffb1400>\n{1: 2, 3: 4}\n5\n"
     ]
    }
   ],
   "source": [
    "a = [1, 2, 3, 4, 5]\n",
    "\n",
    "# Create a list iterator object\n",
    "i = iter(a)\n",
    "\n",
    "print('i is : ', i)\n",
    "# Zip and create a dictionary\n",
    "print(dict(zip(i, i)))\n",
    "\n",
    "print(len(a))"
   ]
  },
  {
   "cell_type": "code",
   "execution_count": 2480,
   "metadata": {},
   "outputs": [
    {
     "data": {
      "text/plain": [
       "<method-wrapper '__iter__' of list object at 0x10ff923c8>"
      ]
     },
     "execution_count": 2480,
     "metadata": {},
     "output_type": "execute_result"
    }
   ],
   "source": [
    "# This is your list\n",
    "list = [5, 6, 7, 8, 9]\n",
    "\n",
    "# Check whether it's iterable\n",
    "list.__iter__"
   ]
  },
  {
   "cell_type": "code",
   "execution_count": 2481,
   "metadata": {},
   "outputs": [
    {
     "name": "stdout",
     "output_type": "stream",
     "text": [
      "[1, 2, 3, [4, 5]]\n[1, 2, 3, 4, 5, 6, 4, 5]\n"
     ]
    }
   ],
   "source": [
    "shortList = [1, 2, 3]\n",
    "longerList = [1, 2, 3, 4, 5, 6]\n",
    "\n",
    "# Append [4,5] to `shortList`\n",
    "shortList.append([4, 5])\n",
    "\n",
    "# Use the `print()` method to show `shortList`\n",
    "print(shortList)\n",
    "\n",
    "# Extend `longerList` with [4,5]\n",
    "longerList.extend([4, 5])\n",
    "\n",
    "# Use the `print()` method to see `longerList`\n",
    "print(longerList)\n"
   ]
  },
  {
   "cell_type": "code",
   "execution_count": 2482,
   "metadata": {},
   "outputs": [
    {
     "name": "stdout",
     "output_type": "stream",
     "text": [
      "[1, 2, 3, [4, 5], 4, 6]\n"
     ]
    }
   ],
   "source": [
    "# Concatenate `shortList` with `[4,5]`\n",
    "plusList = shortList + [4, 6]\n",
    "\n",
    "#Use the `print()` method to see `plusList`\n",
    "print(plusList)"
   ]
  },
  {
   "cell_type": "code",
   "execution_count": 2483,
   "metadata": {},
   "outputs": [
    {
     "name": "stdout",
     "output_type": "stream",
     "text": [
      "before sorting [298, 397, 503, 87, 402, 503]\nafter sorting [87, 298, 397, 402, 503, 503]\nbefore sorting [76, 4, 3, 5, 4]\nafter sorting [76, 4, 3, 5, 4]\nafter sorted(orders) [3, 4, 4, 5, 76]\n"
     ]
    }
   ],
   "source": [
    "\"\"\"Sorting a list\"\"\"\n",
    "\n",
    "rooms = [298, 397, 503, 87, 402, 503]\n",
    "orders = [76, 4, 3, 5, 4]\n",
    "\n",
    "print('before sorting', rooms)\n",
    "# Use `sort()` on the `rooms` list\n",
    "rooms.sort()\n",
    "\n",
    "# Print out `rooms` to see the result\n",
    "print('after sorting', rooms)\n",
    "\n",
    "print('before sorting', orders)\n",
    "# Now use the `sorted()` function on the `orders` list\n",
    "sorted(orders)\n",
    "# Print out orders\n",
    "print('after sorting', orders)\n",
    "print('after sorted(orders)', sorted(orders))\n"
   ]
  },
  {
   "cell_type": "code",
   "execution_count": 2484,
   "metadata": {
    "collapsed": false
   },
   "outputs": [
    {
     "name": "stdout",
     "output_type": "stream",
     "text": [
      "newGroceries :  ['beans', 'carrot', 'papaya', 'ladiesfinger']\ngroceriesForFamily :  ['beans', 'carrot', 'papaya', 'ladiesfinger']\ngroceriesForKids :  ['beans', 'carrot', 'papaya', 'ladiesfinger']\n"
     ]
    }
   ],
   "source": [
    "\"\"\"Clone or Copy\"\"\"\n",
    "groceries = ['beans', 'carrot', 'papaya', 'ladiesfinger']\n",
    "# Copy the grocery list by slicing and store it in the `newGroceries` variable\n",
    "newGroceries = groceries[:]\n",
    "print('newGroceries : ', newGroceries)\n",
    "# Copy the grocery list with the `list()` function and store it in a `groceriesForFriends` variable\n",
    "# groceriesForFriends = list(groceries)\n",
    "# Import the copy library\n",
    "import copy as c\n",
    "\n",
    "# Create a `groceriesForFamily` variable and assign the copied grocery list to it\n",
    "groceriesForFamily = c.copy(groceries)\n",
    "print('groceriesForFamily : ', groceriesForFamily)\n",
    "\n",
    "# Use `deepcopy()` and assign the copied list to a `groceriesForKids` variable\n",
    "groceriesForKids = c.deepcopy(groceries)\n",
    "print('groceriesForKids : ', groceriesForKids)\n"
   ]
  },
  {
   "cell_type": "code",
   "execution_count": 2485,
   "metadata": {},
   "outputs": [
    {
     "name": "stdout",
     "output_type": "stream",
     "text": [
      "['a', 'b', ['ab', 'ba']]\n['a', 'b', ['ab', 'ba']]\n['c', 'b', ['ab', 'ba']]\n['c', 'b', ['ab', 'dd']]\n"
     ]
    }
   ],
   "source": [
    "# This is your list\n",
    "objectList = ['a', 'b', ['ab', 'ba']]\n",
    "\n",
    "# Print out the original list to see what happened to it\n",
    "print(objectList)\n",
    "\n",
    "# Copy the `objectList`\n",
    "copiedList = objectList[:]\n",
    "print(copiedList)\n",
    "\n",
    "# Change the first list element of `copiedList`\n",
    "copiedList[0] = 'c'\n",
    "\n",
    "print(copiedList)\n",
    "\n",
    "# Go to the third element (the nested list) and change the second element\n",
    "copiedList[2][1] = 'dd'\n",
    "\n",
    "print(copiedList)\n"
   ]
  },
  {
   "cell_type": "code",
   "execution_count": 2486,
   "metadata": {},
   "outputs": [
    {
     "data": {
      "text/plain": [
       "[0, 1, 4, 9, 16, 25, 36, 49, 64, 81]"
      ]
     },
     "execution_count": 2486,
     "metadata": {},
     "output_type": "execute_result"
    }
   ],
   "source": [
    "\"\"\"How Does List Comprehension Work In Python?\"\"\"\n",
    "\n",
    "[x ** 2 for x in range(10)]\n"
   ]
  },
  {
   "cell_type": "code",
   "execution_count": 2487,
   "metadata": {},
   "outputs": [
    {
     "data": {
      "text/plain": [
       "[0, 4, 16, 36, 64]"
      ]
     },
     "execution_count": 2487,
     "metadata": {},
     "output_type": "execute_result"
    }
   ],
   "source": [
    "[x ** 2 for x in range(10) if x % 2 == 0]"
   ]
  },
  {
   "cell_type": "code",
   "execution_count": 2488,
   "metadata": {},
   "outputs": [
    {
     "name": "stdout",
     "output_type": "stream",
     "text": [
      "this is first :  [1, 4, 9, 16, 25, 36, 49, 64, 81, 100]\nthis is second :  [0, 1, 4, 9, 16, 25, 36, 49, 64, 81]\n"
     ]
    }
   ],
   "source": [
    "myList = [1, 2, 3, 4, 5, 6, 7, 8, 9, 10]\n",
    "print('this is first : ', [(lambda x: x * x)(x) for x in myList])\n",
    "\n",
    "# similarly\n",
    "f = lambda x: x * x\n",
    "print('this is second : ', [f(x) for x in range(10)])\n"
   ]
  },
  {
   "cell_type": "code",
   "execution_count": 2489,
   "metadata": {},
   "outputs": [
    {
     "name": "stdout",
     "output_type": "stream",
     "text": [
      "2\nlist.count(\"a\") :  4\nlooping :  [['b', 2], ['a', 1]]\n{'b', 'a'}\nCounter(list) :  Counter({'b': 2, 'a': 1})\n"
     ]
    }
   ],
   "source": [
    "\"\"\"How To Count Occurrences Of A List Item In Python\"\"\"\n",
    "print([1, 2, 9, 4, 5, 4, 1].count(4))\n",
    "\n",
    "# Count the occurrences of the letter \"a\"\n",
    "list = [\"d\", \"a\", \"t\", \"a\", \"a\", \"c\", \"a\", \"m\", \"p\"]\n",
    "print('list.count(\"a\") : ', list.count(\"a\"))\n",
    "\n",
    "list = [\"a\", \"b\", \"b\"]\n",
    "print('looping : ', [[x, list.count(x)] for x in set(list)])\n",
    "\n",
    "print(set(list))\n",
    "\n",
    "# Import `Counter` from the `collections` library\n",
    "from collections import Counter\n",
    "\n",
    "# This is your list\n",
    "list = [\"a\", \"b\", \"b\"]\n",
    "\n",
    "# Pass `list` to `Counter()`\n",
    "print('Counter(list) : ', Counter(list))\n"
   ]
  },
  {
   "cell_type": "code",
   "execution_count": 2490,
   "metadata": {},
   "outputs": [
    {
     "name": "stdout",
     "output_type": "stream",
     "text": [
      "reset values got called\nexploring 1\nx is :  [[1, 2, 3, 4, 5, 6, 7, 8, 9]]\nx is :  [[332, 45, 67]]\nreset values got called\nexploring 2\nx is :  ([1, 2, 3, 4, 5, 6, 7, 8, 9], [332, 45, 67])\nreset values got called\nexploring 3\nx is :  [1, 2, 3, 4, 5, 6, 7, 8, 9]\ny is :  [332, 45, 67]\n"
     ]
    }
   ],
   "source": [
    "xx = []\n",
    "yy = []\n",
    "\n",
    "\n",
    "def reset_values():\n",
    "    \"\"\"just a reset function\"\"\"\n",
    "    print('reset values got called')\n",
    "    xx.clear()\n",
    "    yy.clear()\n",
    "    xx.append([1, 2, 3, 4, 5, 6, 7, 8, 9])\n",
    "    yy.append([332, 45, 67])\n",
    "\n",
    "\n",
    "reset_values()\n",
    "print('exploring 1')\n",
    "for x in xx, yy:\n",
    "    print('x is : ', x)\n",
    "    # print('y is : ', yy)\n",
    "\n",
    "reset_values()\n",
    "print('exploring 2')\n",
    "for x in zip(xx, yy):\n",
    "    print('x is : ', x)\n",
    "    # print('y is : ', yy)\n",
    "\n",
    "reset_values()\n",
    "print('exploring 3')\n",
    "for x, y in zip(xx, yy):\n",
    "    print('x is : ', x)\n",
    "    print('y is : ', y)\n"
   ]
  },
  {
   "cell_type": "code",
   "execution_count": 2491,
   "metadata": {},
   "outputs": [
    {
     "name": "stdout",
     "output_type": "stream",
     "text": [
      "first :  [0, 5, 10, 15, 20, 25, 30, 35, 40, 45]\nsecond :  [range(0, 5), range(5, 10), range(10, 15), range(15, 20), range(20, 25), range(25, 30), range(30, 35), range(35, 40), range(40, 45), range(45, 50)]\nidea first :  [0, 1, 2, 3, 4]\nidea second :  [[0, 1, 2, 3, 4, 5, 6, 7, 8, 9], [1, 2, 3, 4, 5, 6, 7, 8, 9], [2, 3, 4, 5, 6, 7, 8, 9], [3, 4, 5, 6, 7, 8, 9], [4, 5, 6, 7, 8, 9]]\nidea third :  [[], [0], [0, 1], [0, 1, 2], [0, 1, 2, 3]]\nidea fourth :  [[], [0], [0, 1], [0, 1, 2], [0, 1, 2, 3]]\n"
     ]
    }
   ],
   "source": [
    "\"\"\"How To Split A Python List Into Evenly Sized Chunks\"\"\"\n",
    "\n",
    "# Your list `x`\n",
    "x = [1, 2, 3, 4, 5, 6, 7, 8, 9]\n",
    "\n",
    "# Split `x` up in chunks of 3\n",
    "y = zip(*[iter(x)] * 3)\n",
    "\n",
    "# Use `list()` to print the result of `zip()`\n",
    "# list(y)\n",
    "# it should give O/P : [(1, 2, 3), (4, 5, 6), (7, 8, 9)]\n",
    "\n",
    "# Set up your list and chunk size\n",
    "list = range(0, 50)\n",
    "chunk = 5\n",
    "\n",
    "# Split up your list into chunks\n",
    "print('first : ', [list[i] for i in range(0, len(list), chunk)])\n",
    "print('second : ', [list[i:i + chunk] for i in range(0, len(list), chunk)])\n",
    "# [list[i:i + chunk] for i in range(0, len(list), chunk)]\n",
    "\n",
    "idea = [0, 1, 2, 3, 4, 5, 6, 7, 8, 9]\n",
    "print('idea first : ', [idea[i] for i in range(5)])\n",
    "print('idea second : ', [idea[i:] for i in range(5)])\n",
    "print('idea third : ', [idea[:i:] for i in range(5)])\n",
    "print('idea fourth : ', [idea[:i] for i in range(5)])\n"
   ]
  },
  {
   "cell_type": "code",
   "execution_count": 2492,
   "metadata": {},
   "outputs": [
    {
     "name": "stdout",
     "output_type": "stream",
     "text": [
      "x is : [1, 2, 3]\ncondn satisfied :  [1, 2, 3]\nx is : [4, 5, 6, 7]\nx is : [8, 9, 10]\ncondn satisfied :  [8, 9, 10]\nloc 0, value is 3\nloc 1, value is 4\nloc 2, value is 5\nloc 3, value is 6\n"
     ]
    }
   ],
   "source": [
    "\"\"\"Looping a list\"\"\"\n",
    "# This is your list\n",
    "mylist = [[1, 2, 3], [4, 5, 6, 7], [8, 9, 10]]\n",
    "\n",
    "# Loop over your list and print all elements that are of size 3\n",
    "for x in mylist:\n",
    "    print('x is :', x)\n",
    "    if len(x) == 3:\n",
    "        print('condn satisfied : ', x)\n",
    "\n",
    "# This is your list\n",
    "myList = [3, 4, 5, 6]\n",
    "\n",
    "# Loop over `myList` and print tuples of all indices and values \n",
    "for i, val in enumerate(myList):\n",
    "    print('loc %d, value is %d' % (i, val))\n"
   ]
  },
  {
   "cell_type": "code",
   "execution_count": 2493,
   "metadata": {},
   "outputs": [
    {
     "data": {
      "text/plain": [
       "[1, 2, 3, 4, 5, 6]"
      ]
     },
     "execution_count": 2493,
     "metadata": {},
     "output_type": "execute_result"
    }
   ],
   "source": [
    "\"\"\"Flatten your lists\"\"\"\n",
    "\n",
    "# Your initial list of lists\n",
    "list = [[1, 2], [3, 4], [5, 6]]\n",
    "\n",
    "# Flatten out your original list of lists with `sum()`\n",
    "sum(list, [])\n"
   ]
  },
  {
   "cell_type": "code",
   "execution_count": 2494,
   "metadata": {},
   "outputs": [
    {
     "name": "stdout",
     "output_type": "stream",
     "text": [
      "[]\nfirst  [[ 0.  0.  0.]\n [ 0.  0.  0.]\n [ 0.  0.  0.]\n [ 0.  0.  0.]]\nsecond  [ 1.  1.  1.]\nthird  []\n"
     ]
    }
   ],
   "source": [
    "\"\"\"Using Numypy instead of Lists\"\"\"\n",
    "\n",
    "import numpy\n",
    "\n",
    "arry = numpy.array([])\n",
    "print(arry)\n",
    "\n",
    "# Make a NumPy array of four rows and two columns and filled with 0\n",
    "print('first ', numpy.zeros(shape=(4, 3)))\n",
    "\n",
    "# Make a NumPy array of 1 values of three columns\n",
    "print('second ', numpy.ones(3))\n",
    "\n",
    "# Make an empty NumPy array\n",
    "print('third ', numpy.empty(shape=(0, 0)))\n"
   ]
  },
  {
   "cell_type": "code",
   "execution_count": 2495,
   "metadata": {
    "collapsed": false
   },
   "outputs": [
    {
     "name": "stdout",
     "output_type": "stream",
     "text": [
      "before :  [0.02826666666666667, 0.056280000000000004, 0.0837, 0.11018666666666665, 0.13766666666666666]\nafter sum :  0.41609999999999997\n"
     ]
    }
   ],
   "source": [
    "cost = [0.424, 0.4221, 0.4185, 0.4132, 0.413]\n",
    "cases = [10, 20, 30, 40, 50]\n",
    "\n",
    "for c in range(len(cost)):\n",
    "    cost[c] = (cost[c] * cases[c] / sum(cases))\n",
    "print('before : ', cost)\n",
    "cost = sum(cost)\n",
    "print('after sum : ', cost)"
   ]
  },
  {
   "cell_type": "code",
   "execution_count": 2496,
   "metadata": {},
   "outputs": [
    {
     "name": "stdout",
     "output_type": "stream",
     "text": [
      "4.0\n"
     ]
    }
   ],
   "source": [
    "# Import numpy as np\n",
    "import numpy as np\n",
    "\n",
    "# Make a NumPy array\n",
    "a = np.array([1, 2, 3, 4, 5])\n",
    "\n",
    "# Return the 50th percentile of our NumPy array\n",
    "p = np.percentile(a, 75)\n",
    "\n",
    "#Print the result\n",
    "print(p)\n"
   ]
  },
  {
   "cell_type": "code",
   "execution_count": 2497,
   "metadata": {},
   "outputs": [
    {
     "name": "stdout",
     "output_type": "stream",
     "text": [
      "val :  <map object at 0x11004a470>\nfirst :  [5, 7, 9]\nsecond :  [(1, 4), (2, 5), (3, 6)]\n"
     ]
    }
   ],
   "source": [
    "\"\"\"Sum List Element-wise\"\"\"\n",
    "list1 = [1, 2, 3]\n",
    "list2 = [4, 5, 6]\n",
    "\n",
    "from operator import add\n",
    "\n",
    "print('val : ', map(add, list1, list2))\n",
    "\n",
    "print('first : ', [sum(x) for x in zip(list1, list2)])\n",
    "print('second : ', [x for x in zip(list1, list2)])\n"
   ]
  },
  {
   "cell_type": "code",
   "execution_count": 2498,
   "metadata": {},
   "outputs": [
    {
     "name": "stdout",
     "output_type": "stream",
     "text": [
      "[5 7 9]\n"
     ]
    }
   ],
   "source": [
    "# Import numpy as np\n",
    "import numpy as np\n",
    "\n",
    "# Make your lists into NumPy arrays\n",
    "vector1 = np.array([1, 2, 3])\n",
    "vector2 = np.array([4, 5, 6])\n",
    "\n",
    "# Element-wise addition\n",
    "sum_vector = vector1 + vector2 \n",
    "\n",
    "# Print the result\n",
    "print(sum_vector)"
   ]
  },
  {
   "cell_type": "code",
   "execution_count": 2499,
   "metadata": {},
   "outputs": [],
   "source": []
  }
 ],
 "metadata": {
  "kernelspec": {
   "display_name": "Python 2",
   "language": "python",
   "name": "python2"
  },
  "language_info": {
   "codemirror_mode": {
    "name": "ipython",
    "version": 2
   },
   "file_extension": ".py",
   "mimetype": "text/x-python",
   "name": "python",
   "nbconvert_exporter": "python",
   "pygments_lexer": "ipython2",
   "version": "2.7.6"
  }
 },
 "nbformat": 4,
 "nbformat_minor": 0
}
